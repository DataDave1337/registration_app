{
 "cells": [
  {
   "cell_type": "code",
   "execution_count": 1,
   "id": "5317dca8-8913-4804-a2f2-24fcd315256f",
   "metadata": {
    "execution": {
     "iopub.execute_input": "2023-10-21T20:50:05.039807Z",
     "iopub.status.busy": "2023-10-21T20:50:05.038988Z",
     "iopub.status.idle": "2023-10-21T20:50:05.403287Z",
     "shell.execute_reply": "2023-10-21T20:50:05.402847Z",
     "shell.execute_reply.started": "2023-10-21T20:50:05.039663Z"
    }
   },
   "outputs": [],
   "source": [
    "import pandas as pd\n",
    "import numpy as np"
   ]
  },
  {
   "cell_type": "code",
   "execution_count": 15,
   "id": "29363448-7c8b-4a78-b618-7df80d466ff4",
   "metadata": {
    "execution": {
     "iopub.execute_input": "2023-10-21T21:19:58.678622Z",
     "iopub.status.busy": "2023-10-21T21:19:58.677863Z",
     "iopub.status.idle": "2023-10-21T21:19:58.691898Z",
     "shell.execute_reply": "2023-10-21T21:19:58.690430Z",
     "shell.execute_reply.started": "2023-10-21T21:19:58.678582Z"
    },
    "tags": []
   },
   "outputs": [],
   "source": [
    "cols = ['Nachname',\n",
    "    'Vorname',\n",
    "    'Straße',\n",
    "    'Ort',\n",
    "    'Status',\n",
    "    'Zahlungsart',\n",
    "    'Eintrittsdatum',\n",
    "    'PLZ',\n",
    "    'Geburtsdatum',\n",
    "    'Geschlecht',\n",
    "    'Mitglieds-Nr',\n",
    "    'Anrede',\n",
    "    'Land',\n",
    "    'Telefon_P1',\n",
    "    'Mobil_P1',\n",
    "    'Fax_P1',\n",
    "    'E-Mail_P1',\n",
    "    'Titel',\n",
    "    'Mandatsreferenz',\n",
    "    'Kontoinhaber',\n",
    "    'IBAN',\n",
    "    'BIC',\n",
    "    'Kreditinstitut',\n",
    "    'Kontonummer',\n",
    "    'Bankleitzahl',\n",
    "    'SEPA-Mandatstyp_1',\n",
    "    'SEPA-Unterschriftsdatum_1',\n",
    "    'SEPA-Merkmal_1',\n",
    "    'SEPA-Gültigkeitsdatum_1',\n",
    "    'SEPA-Benachrichtigungsdatum_1',\n",
    "    'Austrittsdatum',\n",
    "    'Abteilung_1',\n",
    "    'Abteilungseintritt_1',\n",
    "    'Beitragsbezeichnung_1_1',\n",
    "    'Beitragsstart_1_1',\n",
    "    'Gemeinschaft'\n",
    "]\n",
    "\n",
    "row_dict = {k: '' for k in cols}"
   ]
  },
  {
   "cell_type": "code",
   "execution_count": 16,
   "id": "4ca29a3d-1f38-4f09-9859-fa06f8c559a2",
   "metadata": {
    "execution": {
     "iopub.execute_input": "2023-10-21T21:19:59.086110Z",
     "iopub.status.busy": "2023-10-21T21:19:59.085388Z",
     "iopub.status.idle": "2023-10-21T21:19:59.104712Z",
     "shell.execute_reply": "2023-10-21T21:19:59.103669Z",
     "shell.execute_reply.started": "2023-10-21T21:19:59.086037Z"
    },
    "tags": []
   },
   "outputs": [],
   "source": [
    "beitritt_datum = '01.07.2023'\n",
    "row_dict['Nachname'] = 'Mustermann'\n",
    "row_dict['Vorname'] = 'Max'\n",
    "row_dict['Straße'] = 'Musterstr. 1337'\n",
    "row_dict['Ort'] = 'Musterstadt'\n",
    "row_dict['Status'] = 'aktiv'\n",
    "row_dict['Zahlungsart'] = 'Lastschrift'\n",
    "row_dict['Eintrittsdatum'] = beitritt_datum\n",
    "row_dict['PLZ'] = '12345'\n",
    "row_dict['Geburtsdatum'] = '01.01.1950'\n",
    "row_dict['Geschlecht'] = 'männlich'\n",
    "row_dict['Land'] = 'Deutschland'\n",
    "row_dict['Mobil_P1'] = '0123/4567890'\n",
    "# row_dict['Telefon_P1'] = 'Testvorname'\n",
    "row_dict['E-Mail_P1'] = 'test@test.de'\n",
    "row_dict['Mandatsreferenz'] = '1024'\n",
    "row_dict['Kontoinhaber'] = 'Max Mustermann'\n",
    "row_dict['IBAN'] = 'DE67370695200605513018'\n",
    "row_dict['SEPA-Mandatstyp_1'] = 'Folgelastschrift'\n",
    "row_dict['SEPA-Unterschriftsdatum_1'] = beitritt_datum\n",
    "row_dict['SEPA-Merkmal_1'] = 'wiederkehrend'\n",
    "row_dict['Abteilung_1'] = 'Tischtennis'\n",
    "row_dict['Abteilungseintritt_1'] = beitritt_datum\n",
    "row_dict['Beitragsbezeichnung_1_1'] = 'Erwachsene'\n",
    "row_dict['Beitragsstart_1_1'] = beitritt_datum\n",
    "row_dict['Beitragsbezeichnung_1_2'] = 'Aufnahmegebühr'\n",
    "row_dict['Beitragsstart_1_2'] = beitritt_datum"
   ]
  },
  {
   "cell_type": "code",
   "execution_count": 17,
   "id": "5d711bfb-b1d4-4c6e-8aee-fb75e888544a",
   "metadata": {
    "execution": {
     "iopub.execute_input": "2023-10-21T21:20:00.022521Z",
     "iopub.status.busy": "2023-10-21T21:20:00.021678Z",
     "iopub.status.idle": "2023-10-21T21:20:00.055287Z",
     "shell.execute_reply": "2023-10-21T21:20:00.054310Z",
     "shell.execute_reply.started": "2023-10-21T21:20:00.022481Z"
    },
    "tags": []
   },
   "outputs": [
    {
     "data": {
      "text/html": [
       "<div>\n",
       "<style scoped>\n",
       "    .dataframe tbody tr th:only-of-type {\n",
       "        vertical-align: middle;\n",
       "    }\n",
       "\n",
       "    .dataframe tbody tr th {\n",
       "        vertical-align: top;\n",
       "    }\n",
       "\n",
       "    .dataframe thead th {\n",
       "        text-align: right;\n",
       "    }\n",
       "</style>\n",
       "<table border=\"1\" class=\"dataframe\">\n",
       "  <thead>\n",
       "    <tr style=\"text-align: right;\">\n",
       "      <th></th>\n",
       "      <th>Nachname</th>\n",
       "      <th>Vorname</th>\n",
       "      <th>Straße</th>\n",
       "      <th>Ort</th>\n",
       "      <th>Status</th>\n",
       "      <th>Zahlungsart</th>\n",
       "      <th>Eintrittsdatum</th>\n",
       "      <th>PLZ</th>\n",
       "      <th>Geburtsdatum</th>\n",
       "      <th>Geschlecht</th>\n",
       "      <th>...</th>\n",
       "      <th>SEPA-Gültigkeitsdatum_1</th>\n",
       "      <th>SEPA-Benachrichtigungsdatum_1</th>\n",
       "      <th>Austrittsdatum</th>\n",
       "      <th>Abteilung_1</th>\n",
       "      <th>Abteilungseintritt_1</th>\n",
       "      <th>Beitragsbezeichnung_1_1</th>\n",
       "      <th>Beitragsstart_1_1</th>\n",
       "      <th>Gemeinschaft</th>\n",
       "      <th>Beitragsbezeichnung_1_2</th>\n",
       "      <th>Beitragsstart_1_2</th>\n",
       "    </tr>\n",
       "  </thead>\n",
       "  <tbody>\n",
       "    <tr>\n",
       "      <th>0</th>\n",
       "      <td>Mustermann</td>\n",
       "      <td>Max</td>\n",
       "      <td>Musterstr. 1337</td>\n",
       "      <td>Musterstadt</td>\n",
       "      <td>aktiv</td>\n",
       "      <td>Lastschrift</td>\n",
       "      <td>01.07.2023</td>\n",
       "      <td>12345</td>\n",
       "      <td>01.01.1950</td>\n",
       "      <td>männlich</td>\n",
       "      <td>...</td>\n",
       "      <td></td>\n",
       "      <td></td>\n",
       "      <td></td>\n",
       "      <td>Tischtennis</td>\n",
       "      <td>01.07.2023</td>\n",
       "      <td>Erwachsene</td>\n",
       "      <td>01.07.2023</td>\n",
       "      <td></td>\n",
       "      <td>Aufnahmegebühr</td>\n",
       "      <td>01.07.2023</td>\n",
       "    </tr>\n",
       "  </tbody>\n",
       "</table>\n",
       "<p>1 rows × 42 columns</p>\n",
       "</div>"
      ],
      "text/plain": [
       "     Nachname Vorname           Straße          Ort Status  Zahlungsart   \n",
       "0  Mustermann     Max  Musterstr. 1337  Musterstadt  aktiv  Lastschrift  \\\n",
       "\n",
       "  Eintrittsdatum    PLZ Geburtsdatum Geschlecht  ... SEPA-Gültigkeitsdatum_1   \n",
       "0     01.07.2023  12345   01.01.1950   männlich  ...                          \\\n",
       "\n",
       "  SEPA-Benachrichtigungsdatum_1 Austrittsdatum  Abteilung_1   \n",
       "0                                               Tischtennis  \\\n",
       "\n",
       "  Abteilungseintritt_1 Beitragsbezeichnung_1_1 Beitragsstart_1_1 Gemeinschaft   \n",
       "0           01.07.2023              Erwachsene        01.07.2023               \\\n",
       "\n",
       "  Beitragsbezeichnung_1_2 Beitragsstart_1_2  \n",
       "0          Aufnahmegebühr        01.07.2023  \n",
       "\n",
       "[1 rows x 42 columns]"
      ]
     },
     "execution_count": 17,
     "metadata": {},
     "output_type": "execute_result"
    }
   ],
   "source": [
    "df = pd.DataFrame([row_dict])\n",
    "df.head()"
   ]
  },
  {
   "cell_type": "code",
   "execution_count": 18,
   "id": "4b556c7c-c3f2-4c93-80b9-eb5b480c690c",
   "metadata": {
    "execution": {
     "iopub.execute_input": "2023-10-21T21:20:01.709277Z",
     "iopub.status.busy": "2023-10-21T21:20:01.708145Z",
     "iopub.status.idle": "2023-10-21T21:20:01.720729Z",
     "shell.execute_reply": "2023-10-21T21:20:01.719749Z",
     "shell.execute_reply.started": "2023-10-21T21:20:01.709206Z"
    },
    "tags": []
   },
   "outputs": [],
   "source": [
    "df.to_csv('import_test.csv', index=False, sep=';')"
   ]
  },
  {
   "cell_type": "code",
   "execution_count": null,
   "id": "0c8d20c2-8988-4faf-a962-1101ce01591c",
   "metadata": {},
   "outputs": [],
   "source": []
  }
 ],
 "metadata": {
  "kernelspec": {
   "display_name": "Python 3 (ipykernel)",
   "language": "python",
   "name": "python3"
  },
  "language_info": {
   "codemirror_mode": {
    "name": "ipython",
    "version": 3
   },
   "file_extension": ".py",
   "mimetype": "text/x-python",
   "name": "python",
   "nbconvert_exporter": "python",
   "pygments_lexer": "ipython3",
   "version": "3.8.13"
  }
 },
 "nbformat": 4,
 "nbformat_minor": 5
}
